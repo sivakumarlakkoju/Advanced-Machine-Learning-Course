{
  "nbformat": 4,
  "nbformat_minor": 0,
  "metadata": {
    "colab": {
      "provenance": []
    },
    "kernelspec": {
      "name": "python3",
      "display_name": "Python 3"
    },
    "language_info": {
      "name": "python"
    }
  },
  "cells": [
    {
      "cell_type": "code",
      "execution_count": null,
      "metadata": {
        "id": "_xPwegSFs4yt"
      },
      "outputs": [],
      "source": [
        "import numpy as np\n",
        "import tensorflow as tf\n",
        "from tensorflow.keras.layers import (Input,\n",
        "                                     Dense,\n",
        "                                     Flatten,\n",
        "                                     BatchNormalization,\n",
        "                                     LeakyReLU,\n",
        "                                     Reshape)\n",
        "from tensorflow.keras.models import Model, Sequential\n",
        "from tensorflow.keras.optimizers import Adam\n",
        "from tensorflow.keras.losses import BinaryCrossentropy\n",
        "from tensorflow.keras.datasets import mnist\n",
        "import matplotlib.pyplot as plt\n",
        "from PIL import Image\n",
        "import random"
      ]
    },
    {
      "cell_type": "code",
      "source": [
        "# model compile"
      ],
      "metadata": {
        "id": "jKLWLicGuWXF"
      },
      "execution_count": null,
      "outputs": []
    },
    {
      "cell_type": "code",
      "source": [
        "#loading MNIST data\n",
        "(x_train, y_train), (x_test, y_test)  = mnist.load_data()"
      ],
      "metadata": {
        "id": "J0gd34c00tZz"
      },
      "execution_count": null,
      "outputs": []
    },
    {
      "cell_type": "code",
      "source": [
        "x_val, y_val = x_test[:9000], y_test[:9000]\n",
        "x_test, y_test = x_test[9000:], y_test[9000:]"
      ],
      "metadata": {
        "id": "hee6GwyNSEGy"
      },
      "execution_count": null,
      "outputs": []
    },
    {
      "cell_type": "code",
      "source": [
        "x_train.shape"
      ],
      "metadata": {
        "colab": {
          "base_uri": "https://localhost:8080/"
        },
        "id": "l3_v4vf61azz",
        "outputId": "b8cbd251-84b3-4fd8-a688-a3dfae8e7ade"
      },
      "execution_count": null,
      "outputs": [
        {
          "output_type": "execute_result",
          "data": {
            "text/plain": [
              "(60000, 28, 28)"
            ]
          },
          "metadata": {},
          "execution_count": 80
        }
      ]
    },
    {
      "cell_type": "code",
      "source": [
        "plt.imshow(x_train[0], cmap=plt.get_cmap('gray'))"
      ],
      "metadata": {
        "colab": {
          "base_uri": "https://localhost:8080/",
          "height": 282
        },
        "id": "Cn1cxmvp1DYW",
        "outputId": "b6bbddf8-43fc-49d2-a420-10939040777a"
      },
      "execution_count": null,
      "outputs": [
        {
          "output_type": "execute_result",
          "data": {
            "text/plain": [
              "<matplotlib.image.AxesImage at 0x7fca5541e850>"
            ]
          },
          "metadata": {},
          "execution_count": 81
        },
        {
          "output_type": "display_data",
          "data": {
            "text/plain": [
              "<Figure size 432x288 with 1 Axes>"
            ],
            "image/png": "[encoded data removed]"
          },
          "metadata": {
            "needs_background": "light"
          }
        }
      ]
    },
    {
      "cell_type": "code",
      "source": [
        "#patch image to be added to each image in MNIST\n",
        "im_patch = Image.new(mode='L', size=(8,8), color=128)\n",
        "\n",
        "im_patch"
      ],
      "metadata": {
        "colab": {
          "base_uri": "https://localhost:8080/",
          "height": 34
        },
        "id": "Vzk5l3NK5vvd",
        "outputId": "d7ba0551-4b82-4082-aed6-52e7b25aac9c"
      },
      "execution_count": null,
      "outputs": [
        {
          "output_type": "execute_result",
          "data": {
            "text/plain": [
              "<PIL.Image.Image image mode=L size=8x8 at 0x7FCA5540ED10>"
            ],
            "image/png": "[encoded data removed]"
          },
          "metadata": {},
          "execution_count": 82
        }
      ]
    },
    {
      "cell_type": "code",
      "source": [
        "# array to keep pixel positions,\n",
        "# will be used to randomly select one upper corner pixel\n",
        "# in the 28,28 image to add the 8,8 patch\n",
        "pixel_pos = []\n",
        "for i in range(21):\n",
        "  pixel_pos.append(tuple((i,i)))"
      ],
      "metadata": {
        "id": "sEo_KYBh8-bg"
      },
      "execution_count": null,
      "outputs": []
    },
    {
      "cell_type": "code",
      "source": [
        "# function to add and patch noise to an image\n",
        "def add_patch_noise(data, patch, pixel_pos=pixel_pos):\n",
        "  noisy_imgs = []\n",
        "  for image_ in data:\n",
        "    #converting numpy array to image\n",
        "    img = Image.fromarray(image_)\n",
        "\n",
        "    #adding a patch through Image.paste\n",
        "    j = random.randrange(len(pixel_pos))\n",
        "    img.paste(patch, box = pixel_pos[j])\n",
        "\n",
        "    #converting image to numpy array\n",
        "    noisy_imgs.append(np.asarray(img))\n",
        "\n",
        "\n",
        "  return np.stack(noisy_imgs, axis=0)"
      ],
      "metadata": {
        "id": "vi-FiGHL3LsX"
      },
      "execution_count": null,
      "outputs": []
    },
    {
      "cell_type": "code",
      "source": [
        "#testing the add_patch_noise function for a small set of images\n",
        "a = []\n",
        "for i in range(9):\n",
        "  a.append(x_train[i])\n",
        "\n",
        "b = np.stack(a, axis =0)\n",
        "c = add_patch_noise(b, patch=im_patch)\n",
        "plt.figure(figsize=(10,10))\n",
        "for i in range(c.shape[0]):\n",
        "  plt.subplot(3,3,i+1)\n",
        "  plt.imshow(c[i], cmap=plt.get_cmap('gray'))"
      ],
      "metadata": {
        "colab": {
          "base_uri": "https://localhost:8080/",
          "height": 593
        },
        "id": "QIUPhIk3_XO2",
        "outputId": "b0cc7312-dce8-461c-a477-27f8193f4a28"
      },
      "execution_count": null,
      "outputs": [
        {
          "output_type": "display_data",
          "data": {
            "text/plain": [
              "<Figure size 720x720 with 9 Axes>"
            ],
            "image/png": "[encoded data removed]"
          },
          "metadata": {
            "needs_background": "light"
          }
        }
      ]
    },
    {
      "cell_type": "code",
      "source": [
        "noisy_train_set = add_patch_noise(x_train, patch=im_patch)\n",
        "noisy_val_set = add_patch_noise(x_val, patch=im_patch)\n",
        "noisy_test_set = add_patch_noise(x_test, patch=im_patch)"
      ],
      "metadata": {
        "id": "_WcjX73xA1Gg"
      },
      "execution_count": null,
      "outputs": []
    },
    {
      "cell_type": "code",
      "source": [
        "#all relu didn't perform well"
      ],
      "metadata": {
        "id": "nOPhZ4VDfvBB"
      },
      "execution_count": null,
      "outputs": []
    },
    {
      "cell_type": "code",
      "source": [
        "#input: flattened vector\n",
        "input_img = Input(shape=(784,))\n",
        "#encoder\n",
        "encoded = Dense(300, activation='sigmoid')(input_img)\n",
        "encoded = Dense(200, activation='sigmoid')(encoded)\n",
        "encoded = Dense(100, activation='sigmoid')(encoded)\n",
        "encoded = Dense(50, activation='sigmoid')(encoded)\n",
        "\n",
        "#decoder\n",
        "decoded = Dense(100, activation='sigmoid')(encoded)\n",
        "decoded = Dense(200, activation='sigmoid')(decoded)\n",
        "decoded = Dense(300, activation='sigmoid')(decoded)\n",
        "decoded = Dense(784, activation='sigmoid')(decoded)\n",
        "\n",
        "autoencoder = Model(inputs=input_img, outputs=decoded)"
      ],
      "metadata": {
        "id": "t0r0S3T8Ha2v"
      },
      "execution_count": null,
      "outputs": []
    },
    {
      "cell_type": "code",
      "source": [
        "autoencoder.summary()"
      ],
      "metadata": {
        "colab": {
          "base_uri": "https://localhost:8080/"
        },
        "id": "SBZoDhesKAgA",
        "outputId": "63d1d0ff-d3dd-44f2-c3af-a2825f64b61a"
      },
      "execution_count": null,
      "outputs": [
        {
          "output_type": "stream",
          "name": "stdout",
          "text": [
            "Model: \"model_3\"\n",
            "_________________________________________________________________\n",
            " Layer (type)                Output Shape              Param #   \n",
            "=================================================================\n",
            " input_4 (InputLayer)        [(None, 784)]             0         \n",
            "                                                                 \n",
            " dense_24 (Dense)            (None, 300)               235500    \n",
            "                                                                 \n",
            " dense_25 (Dense)            (None, 200)               60200     \n",
            "                                                                 \n",
            " dense_26 (Dense)            (None, 100)               20100     \n",
            "                                                                 \n",
            " dense_27 (Dense)            (None, 50)                5050      \n",
            "                                                                 \n",
            " dense_28 (Dense)            (None, 100)               5100      \n",
            "                                                                 \n",
            " dense_29 (Dense)            (None, 200)               20200     \n",
            "                                                                 \n",
            " dense_30 (Dense)            (None, 300)               60300     \n",
            "                                                                 \n",
            " dense_31 (Dense)            (None, 784)               235984    \n",
            "                                                                 \n",
            "=================================================================\n",
            "Total params: 642,434\n",
            "Trainable params: 642,434\n",
            "Non-trainable params: 0\n",
            "_________________________________________________________________\n"
          ]
        }
      ]
    },
    {
      "cell_type": "code",
      "source": [
        "x_train = x_train.reshape([60000,784])\n",
        "noisy_train_set = noisy_train_set.reshape([60000,784])\n",
        "x_val = x_val.reshape([9000, 784])\n",
        "noisy_val_set = noisy_val_set.reshape([9000, 784])\n",
        "noisy_test_set = noisy_test_set.reshape([1000, 784])\n",
        "\n",
        "x_train = x_train.astype('float32')\n",
        "noisy_train_set = noisy_train_set.astype('float32')\n",
        "x_val = x_val.astype('float32')\n",
        "noisy_val_set = noisy_val_set.astype('float32')\n",
        "noisy_test_set = noisy_test_set.astype('float32')\n",
        "\n",
        "\n",
        "x_train = x_train/255.\n",
        "noisy_train_set = noisy_train_set/255.\n",
        "x_val = x_val/255.\n",
        "noisy_val_set = noisy_val_set/255.\n",
        "noisy_test_set = noisy_test_set/255.\n"
      ],
      "metadata": {
        "id": "4z6mqCpuLofa"
      },
      "execution_count": null,
      "outputs": []
    },
    {
      "cell_type": "code",
      "source": [
        "autoencoder.compile(optimizer='adam', loss='binary_crossentropy')"
      ],
      "metadata": {
        "id": "ibBeXz7uJ3gq"
      },
      "execution_count": null,
      "outputs": []
    },
    {
      "cell_type": "code",
      "source": [
        "# # callbacks\n",
        "# es = tf.keras.callbacks.EarlyStopping(\n",
        "#     monitor='val_loss',\n",
        "#     patience=3,\n",
        "#     verbose=1,\n",
        "#     mode='auto',\n",
        "#     baseline=None,\n",
        "#     restore_best_weights=True\n",
        "# )\n",
        "# # ckpt ="
      ],
      "metadata": {
        "id": "uFbN5xTuXDf4"
      },
      "execution_count": null,
      "outputs": []
    },
    {
      "cell_type": "code",
      "source": [
        "history = autoencoder.fit(noisy_train_set, x_train, epochs=100,batch_size=32,shuffle=True, validation_data=(noisy_val_set, x_val)) #, callbacks=[es])"
      ],
      "metadata": {
        "colab": {
          "base_uri": "https://localhost:8080/"
        },
        "id": "eirtZ1sHKDWE",
        "outputId": "75f7afe5-93bf-4fba-d237-16ebc6045d61"
      },
      "execution_count": null,
      "outputs": [
        {
          "output_type": "stream",
          "name": "stdout",
          "text": [
            "Epoch 1/100\n",
            "1875/1875 [==============================] - 12s 6ms/step - loss: 0.2508 - val_loss: 0.2299\n",
            "Epoch 2/100\n",
            "1875/1875 [==============================] - 12s 7ms/step - loss: 0.2147 - val_loss: 0.1984\n",
            "Epoch 3/100\n",
            "1875/1875 [==============================] - 12s 6ms/step - loss: 0.1931 - val_loss: 0.1895\n",
            "Epoch 4/100\n",
            "1875/1875 [==============================] - 11s 6ms/step - loss: 0.1852 - val_loss: 0.1794\n",
            "Epoch 5/100\n",
            "1875/1875 [==============================] - 12s 6ms/step - loss: 0.1734 - val_loss: 0.1703\n",
            "Epoch 6/100\n",
            "1875/1875 [==============================] - 11s 6ms/step - loss: 0.1667 - val_loss: 0.1646\n",
            "Epoch 7/100\n",
            "1875/1875 [==============================] - 11s 6ms/step - loss: 0.1625 - val_loss: 0.1615\n",
            "Epoch 8/100\n",
            "1875/1875 [==============================] - 11s 6ms/step - loss: 0.1595 - val_loss: 0.1586\n",
            "Epoch 9/100\n",
            "1875/1875 [==============================] - 11s 6ms/step - loss: 0.1569 - val_loss: 0.1561\n",
            "Epoch 10/100\n",
            "1875/1875 [==============================] - 11s 6ms/step - loss: 0.1536 - val_loss: 0.1532\n",
            "Epoch 11/100\n",
            "1875/1875 [==============================] - 11s 6ms/step - loss: 0.1511 - val_loss: 0.1518\n",
            "Epoch 12/100\n",
            "1875/1875 [==============================] - 11s 6ms/step - loss: 0.1491 - val_loss: 0.1501\n",
            "Epoch 13/100\n",
            "1875/1875 [==============================] - 11s 6ms/step - loss: 0.1476 - val_loss: 0.1490\n",
            "Epoch 14/100\n",
            "1875/1875 [==============================] - 11s 6ms/step - loss: 0.1462 - val_loss: 0.1475\n",
            "Epoch 15/100\n",
            "1875/1875 [==============================] - 11s 6ms/step - loss: 0.1446 - val_loss: 0.1460\n",
            "Epoch 16/100\n",
            "1875/1875 [==============================] - 11s 6ms/step - loss: 0.1429 - val_loss: 0.1443\n",
            "Epoch 17/100\n",
            "1875/1875 [==============================] - 11s 6ms/step - loss: 0.1412 - val_loss: 0.1423\n",
            "Epoch 18/100\n",
            "1875/1875 [==============================] - 11s 6ms/step - loss: 0.1395 - val_loss: 0.1409\n",
            "Epoch 19/100\n",
            "1875/1875 [==============================] - 12s 6ms/step - loss: 0.1380 - val_loss: 0.1401\n",
            "Epoch 20/100\n",
            "1875/1875 [==============================] - 11s 6ms/step - loss: 0.1368 - val_loss: 0.1389\n",
            "Epoch 21/100\n",
            "1875/1875 [==============================] - 11s 6ms/step - loss: 0.1356 - val_loss: 0.1381\n",
            "Epoch 22/100\n",
            "1875/1875 [==============================] - 11s 6ms/step - loss: 0.1346 - val_loss: 0.1369\n",
            "Epoch 23/100\n",
            "1875/1875 [==============================] - 11s 6ms/step - loss: 0.1337 - val_loss: 0.1358\n",
            "Epoch 24/100\n",
            "1875/1875 [==============================] - 11s 6ms/step - loss: 0.1324 - val_loss: 0.1347\n",
            "Epoch 25/100\n",
            "1875/1875 [==============================] - 11s 6ms/step - loss: 0.1309 - val_loss: 0.1330\n",
            "Epoch 26/100\n",
            "1875/1875 [==============================] - 12s 6ms/step - loss: 0.1295 - val_loss: 0.1318\n",
            "Epoch 27/100\n",
            "1875/1875 [==============================] - 12s 6ms/step - loss: 0.1283 - val_loss: 0.1314\n",
            "Epoch 28/100\n",
            "1875/1875 [==============================] - 11s 6ms/step - loss: 0.1273 - val_loss: 0.1304\n",
            "Epoch 29/100\n",
            "1875/1875 [==============================] - 12s 6ms/step - loss: 0.1265 - val_loss: 0.1298\n",
            "Epoch 30/100\n",
            "1875/1875 [==============================] - 12s 6ms/step - loss: 0.1256 - val_loss: 0.1290\n",
            "Epoch 31/100\n",
            "1875/1875 [==============================] - 12s 7ms/step - loss: 0.1249 - val_loss: 0.1284\n",
            "Epoch 32/100\n",
            "1875/1875 [==============================] - 12s 6ms/step - loss: 0.1242 - val_loss: 0.1277\n",
            "Epoch 33/100\n",
            "1875/1875 [==============================] - 12s 6ms/step - loss: 0.1235 - val_loss: 0.1270\n",
            "Epoch 34/100\n",
            "1875/1875 [==============================] - 11s 6ms/step - loss: 0.1230 - val_loss: 0.1266\n",
            "Epoch 35/100\n",
            "1875/1875 [==============================] - 12s 6ms/step - loss: 0.1224 - val_loss: 0.1263\n",
            "Epoch 36/100\n",
            "1875/1875 [==============================] - 12s 6ms/step - loss: 0.1219 - val_loss: 0.1262\n",
            "Epoch 37/100\n",
            "1875/1875 [==============================] - 11s 6ms/step - loss: 0.1215 - val_loss: 0.1256\n",
            "Epoch 38/100\n",
            "1875/1875 [==============================] - 11s 6ms/step - loss: 0.1210 - val_loss: 0.1253\n",
            "Epoch 39/100\n",
            "1875/1875 [==============================] - 12s 6ms/step - loss: 0.1207 - val_loss: 0.1253\n",
            "Epoch 40/100\n",
            "1875/1875 [==============================] - 11s 6ms/step - loss: 0.1203 - val_loss: 0.1247\n",
            "Epoch 41/100\n",
            "1875/1875 [==============================] - 11s 6ms/step - loss: 0.1200 - val_loss: 0.1250\n",
            "Epoch 42/100\n",
            "1875/1875 [==============================] - 12s 6ms/step - loss: 0.1196 - val_loss: 0.1251\n",
            "Epoch 43/100\n",
            "1875/1875 [==============================] - 11s 6ms/step - loss: 0.1193 - val_loss: 0.1243\n",
            "Epoch 44/100\n",
            "1875/1875 [==============================] - 12s 6ms/step - loss: 0.1189 - val_loss: 0.1244\n",
            "Epoch 45/100\n",
            "1875/1875 [==============================] - 13s 7ms/step - loss: 0.1186 - val_loss: 0.1241\n",
            "Epoch 46/100\n",
            "1875/1875 [==============================] - 11s 6ms/step - loss: 0.1183 - val_loss: 0.1237\n",
            "Epoch 47/100\n",
            "1875/1875 [==============================] - 12s 6ms/step - loss: 0.1180 - val_loss: 0.1235\n",
            "Epoch 48/100\n",
            "1875/1875 [==============================] - 12s 6ms/step - loss: 0.1176 - val_loss: 0.1230\n",
            "Epoch 49/100\n",
            "1875/1875 [==============================] - 12s 6ms/step - loss: 0.1172 - val_loss: 0.1229\n",
            "Epoch 50/100\n",
            "1875/1875 [==============================] - 12s 6ms/step - loss: 0.1167 - val_loss: 0.1224\n",
            "Epoch 51/100\n",
            "1875/1875 [==============================] - 12s 6ms/step - loss: 0.1161 - val_loss: 0.1218\n",
            "Epoch 52/100\n",
            "1875/1875 [==============================] - 12s 6ms/step - loss: 0.1156 - val_loss: 0.1210\n",
            "Epoch 53/100\n",
            "1875/1875 [==============================] - 12s 6ms/step - loss: 0.1151 - val_loss: 0.1205\n",
            "Epoch 54/100\n",
            "1875/1875 [==============================] - 12s 6ms/step - loss: 0.1145 - val_loss: 0.1202\n",
            "Epoch 55/100\n",
            "1875/1875 [==============================] - 11s 6ms/step - loss: 0.1139 - val_loss: 0.1198\n",
            "Epoch 56/100\n",
            "1875/1875 [==============================] - 11s 6ms/step - loss: 0.1134 - val_loss: 0.1191\n",
            "Epoch 57/100\n",
            "1875/1875 [==============================] - 12s 6ms/step - loss: 0.1129 - val_loss: 0.1189\n",
            "Epoch 58/100\n",
            "1875/1875 [==============================] - 11s 6ms/step - loss: 0.1123 - val_loss: 0.1180\n",
            "Epoch 59/100\n",
            "1875/1875 [==============================] - 12s 6ms/step - loss: 0.1119 - val_loss: 0.1177\n",
            "Epoch 60/100\n",
            "1875/1875 [==============================] - 11s 6ms/step - loss: 0.1115 - val_loss: 0.1174\n",
            "Epoch 61/100\n",
            "1875/1875 [==============================] - 11s 6ms/step - loss: 0.1110 - val_loss: 0.1172\n",
            "Epoch 62/100\n",
            "1875/1875 [==============================] - 12s 6ms/step - loss: 0.1106 - val_loss: 0.1167\n",
            "Epoch 63/100\n",
            "1875/1875 [==============================] - 12s 6ms/step - loss: 0.1102 - val_loss: 0.1165\n",
            "Epoch 64/100\n",
            "1875/1875 [==============================] - 11s 6ms/step - loss: 0.1099 - val_loss: 0.1162\n",
            "Epoch 65/100\n",
            "1875/1875 [==============================] - 11s 6ms/step - loss: 0.1095 - val_loss: 0.1160\n",
            "Epoch 66/100\n",
            "1875/1875 [==============================] - 12s 6ms/step - loss: 0.1091 - val_loss: 0.1160\n",
            "Epoch 67/100\n",
            "1875/1875 [==============================] - 12s 6ms/step - loss: 0.1087 - val_loss: 0.1155\n",
            "Epoch 68/100\n",
            "1875/1875 [==============================] - 11s 6ms/step - loss: 0.1084 - val_loss: 0.1155\n",
            "Epoch 69/100\n",
            "1875/1875 [==============================] - 11s 6ms/step - loss: 0.1081 - val_loss: 0.1154\n",
            "Epoch 70/100\n",
            "1875/1875 [==============================] - 11s 6ms/step - loss: 0.1077 - val_loss: 0.1147\n",
            "Epoch 71/100\n",
            "1875/1875 [==============================] - 12s 6ms/step - loss: 0.1073 - val_loss: 0.1148\n",
            "Epoch 72/100\n",
            "1875/1875 [==============================] - 11s 6ms/step - loss: 0.1070 - val_loss: 0.1145\n",
            "Epoch 73/100\n",
            "1875/1875 [==============================] - 12s 6ms/step - loss: 0.1067 - val_loss: 0.1141\n",
            "Epoch 74/100\n",
            "1875/1875 [==============================] - 12s 6ms/step - loss: 0.1064 - val_loss: 0.1140\n",
            "Epoch 75/100\n",
            "1875/1875 [==============================] - 11s 6ms/step - loss: 0.1061 - val_loss: 0.1139\n",
            "Epoch 76/100\n",
            "1875/1875 [==============================] - 11s 6ms/step - loss: 0.1058 - val_loss: 0.1136\n",
            "Epoch 77/100\n",
            "1875/1875 [==============================] - 11s 6ms/step - loss: 0.1055 - val_loss: 0.1132\n",
            "Epoch 78/100\n",
            "1875/1875 [==============================] - 11s 6ms/step - loss: 0.1052 - val_loss: 0.1130\n",
            "Epoch 79/100\n",
            "1875/1875 [==============================] - 12s 6ms/step - loss: 0.1049 - val_loss: 0.1125\n",
            "Epoch 80/100\n",
            "1875/1875 [==============================] - 11s 6ms/step - loss: 0.1045 - val_loss: 0.1125\n",
            "Epoch 81/100\n",
            "1875/1875 [==============================] - 11s 6ms/step - loss: 0.1043 - val_loss: 0.1121\n",
            "Epoch 82/100\n",
            "1875/1875 [==============================] - 11s 6ms/step - loss: 0.1040 - val_loss: 0.1119\n",
            "Epoch 83/100\n",
            "1875/1875 [==============================] - 11s 6ms/step - loss: 0.1037 - val_loss: 0.1118\n",
            "Epoch 84/100\n",
            "1875/1875 [==============================] - 12s 6ms/step - loss: 0.1034 - val_loss: 0.1111\n",
            "Epoch 85/100\n",
            "1875/1875 [==============================] - 12s 6ms/step - loss: 0.1032 - val_loss: 0.1115\n",
            "Epoch 86/100\n",
            "1875/1875 [==============================] - 12s 7ms/step - loss: 0.1028 - val_loss: 0.1110\n",
            "Epoch 87/100\n",
            "1875/1875 [==============================] - 12s 6ms/step - loss: 0.1026 - val_loss: 0.1109\n",
            "Epoch 88/100\n",
            "1875/1875 [==============================] - 12s 6ms/step - loss: 0.1023 - val_loss: 0.1107\n",
            "Epoch 89/100\n",
            "1875/1875 [==============================] - 12s 6ms/step - loss: 0.1021 - val_loss: 0.1101\n",
            "Epoch 90/100\n",
            "1875/1875 [==============================] - 11s 6ms/step - loss: 0.1018 - val_loss: 0.1103\n",
            "Epoch 91/100\n",
            "1875/1875 [==============================] - 12s 6ms/step - loss: 0.1015 - val_loss: 0.1100\n",
            "Epoch 92/100\n",
            "1875/1875 [==============================] - 11s 6ms/step - loss: 0.1012 - val_loss: 0.1093\n",
            "Epoch 93/100\n",
            "1875/1875 [==============================] - 11s 6ms/step - loss: 0.1009 - val_loss: 0.1095\n",
            "Epoch 94/100\n",
            "1875/1875 [==============================] - 11s 6ms/step - loss: 0.1007 - val_loss: 0.1093\n",
            "Epoch 95/100\n",
            "1875/1875 [==============================] - 11s 6ms/step - loss: 0.1004 - val_loss: 0.1090\n",
            "Epoch 96/100\n",
            "1875/1875 [==============================] - 11s 6ms/step - loss: 0.1001 - val_loss: 0.1085\n",
            "Epoch 97/100\n",
            "1875/1875 [==============================] - 12s 6ms/step - loss: 0.0999 - val_loss: 0.1085\n",
            "Epoch 98/100\n",
            "1875/1875 [==============================] - 11s 6ms/step - loss: 0.0996 - val_loss: 0.1083\n",
            "Epoch 99/100\n",
            "1875/1875 [==============================] - 12s 6ms/step - loss: 0.0994 - val_loss: 0.1080\n",
            "Epoch 100/100\n",
            "1875/1875 [==============================] - 12s 6ms/step - loss: 0.0992 - val_loss: 0.1078\n"
          ]
        }
      ]
    },
    {
      "cell_type": "code",
      "source": [
        "plt.plot(history.history['loss'])\n",
        "plt.plot(history.history['val_loss'])\n",
        "plt.title('model loss')\n",
        "plt.ylabel('loss')\n",
        "plt.xlabel('epoch')\n",
        "plt.legend(['train', 'val'], loc='upper left')\n",
        "plt.show()"
      ],
      "metadata": {
        "colab": {
          "base_uri": "https://localhost:8080/",
          "height": 295
        },
        "id": "3k_x9fc-UgOW",
        "outputId": "99ebe28d-4a9e-4e45-b287-d69ab72e7a66"
      },
      "execution_count": null,
      "outputs": [
        {
          "output_type": "display_data",
          "data": {
            "text/plain": [
              "<Figure size 432x288 with 1 Axes>"
            ],
            "image/png": "[encoded data removed]"
          },
          "metadata": {
            "needs_background": "light"
          }
        }
      ]
    },
    {
      "cell_type": "code",
      "source": [
        "rec_imgs = autoencoder.predict(noisy_train_set)\n",
        "\n",
        "rec_imgs = rec_imgs*255.\n",
        "\n",
        "rec_imgs = rec_imgs.astype('uint8')"
      ],
      "metadata": {
        "id": "fpj5Ql29ORjC"
      },
      "execution_count": null,
      "outputs": []
    },
    {
      "cell_type": "code",
      "source": [
        "n = 10\n",
        "plt.figure(figsize=(20,6))\n",
        "\n",
        "for i in range(n):\n",
        "\n",
        "  # original images\n",
        "  ax = plt.subplot(3,n, i+1)\n",
        "  plt.imshow(x_train[i].reshape(28,28))\n",
        "  plt.gray()\n",
        "  ax.get_xaxis().set_visible(False)\n",
        "  ax.get_yaxis().set_visible(False)\n",
        "\n",
        "  # images with noise\n",
        "  ax = plt.subplot(3,n, i+1+n)\n",
        "  plt.imshow(noisy_train_set[i].reshape(28,28))\n",
        "  plt.gray()\n",
        "  ax.get_xaxis().set_visible(False)\n",
        "  ax.get_yaxis().set_visible(False)\n",
        "\n",
        "  # reconstructed images\n",
        "  ax = plt.subplot(3,n, i+1+n+n)\n",
        "  plt.imshow(rec_imgs[i].reshape(28,28))\n",
        "  plt.gray()\n",
        "  ax.get_xaxis().set_visible(False)\n",
        "  ax.get_yaxis().set_visible(False)"
      ],
      "metadata": {
        "colab": {
          "base_uri": "https://localhost:8080/",
          "height": 359
        },
        "id": "voYdogVVPFrx",
        "outputId": "c80504bc-b6d3-420b-a4a1-7d6a96d3e67d"
      },
      "execution_count": null,
      "outputs": [
        {
          "output_type": "display_data",
          "data": {
            "text/plain": [
              "<Figure size 1440x432 with 30 Axes>"
            ],
            "image/png": "[encoded data removed]"
          },
          "metadata": {
            "needs_background": "light"
          }
        }
      ]
    },
    {
      "cell_type": "code",
      "source": [
        "rec_imgs = autoencoder.predict(noisy_test_set)\n",
        "\n",
        "rec_imgs = rec_imgs*255.\n",
        "\n",
        "rec_imgs = rec_imgs.astype('uint8')"
      ],
      "metadata": {
        "id": "1apMRh5UdIrm"
      },
      "execution_count": null,
      "outputs": []
    },
    {
      "cell_type": "code",
      "source": [
        "n = 10\n",
        "plt.figure(figsize=(20,6))\n",
        "\n",
        "for i in range(n):\n",
        "\n",
        "  # original images\n",
        "  ax = plt.subplot(3,n, i+1)\n",
        "  plt.imshow(x_test[i].reshape(28,28))\n",
        "  plt.gray()\n",
        "  ax.get_xaxis().set_visible(False)\n",
        "  ax.get_yaxis().set_visible(False)\n",
        "\n",
        "  # images with noise\n",
        "  ax = plt.subplot(3,n, i+1+n)\n",
        "  plt.imshow(noisy_test_set[i].reshape(28,28))\n",
        "  plt.gray()\n",
        "  ax.get_xaxis().set_visible(False)\n",
        "  ax.get_yaxis().set_visible(False)\n",
        "\n",
        "  # reconstructed images\n",
        "  ax = plt.subplot(3,n, i+1+n+n)\n",
        "  plt.imshow(rec_imgs[i].reshape(28,28))\n",
        "  plt.gray()\n",
        "  ax.get_xaxis().set_visible(False)\n",
        "  ax.get_yaxis().set_visible(False)"
      ],
      "metadata": {
        "colab": {
          "base_uri": "https://localhost:8080/",
          "height": 359
        },
        "id": "Z7iv5ksAdBWu",
        "outputId": "232cdf4c-cad2-4169-9b0f-b79f8649cdfc"
      },
      "execution_count": null,
      "outputs": [
        {
          "output_type": "display_data",
          "data": {
            "text/plain": [
              "<Figure size 1440x432 with 30 Axes>"
            ],
            "image/png": "[encoded data removed]"
          },
          "metadata": {
            "needs_background": "light"
          }
        }
      ]
    },
    {
      "cell_type": "code",
      "source": [
        "#getting latent vector\n",
        "\n",
        "# encoder = Model(inputs=input_img, outputs=encoded)\n",
        "\n",
        "# latent_vector = encoder.predict()"
      ],
      "metadata": {
        "id": "36dHhsPBLoZS"
      },
      "execution_count": null,
      "outputs": []
    }
  ]
}